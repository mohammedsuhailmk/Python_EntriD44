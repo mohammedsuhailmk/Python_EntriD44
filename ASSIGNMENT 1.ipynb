{
 "cells": [
  {
   "cell_type": "markdown",
   "id": "e7767941-1c70-456e-bf3a-34c3f8b74906",
   "metadata": {},
   "source": [
    "# <span style='color:skyblue'> **ASSIGNMENT 1** <span>"
   ]
  },
  {
   "cell_type": "markdown",
   "id": "3d3bc395-e5d9-48df-a586-1ed4df3315e2",
   "metadata": {},
   "source": [
    "***"
   ]
  },
  {
   "cell_type": "markdown",
   "id": "554862a1-722f-40a6-83a7-b30e983fbd06",
   "metadata": {},
   "source": [
    "# <span style='color:brown'> Python Fundamentals <span>"
   ]
  },
  {
   "cell_type": "markdown",
   "id": "78b9c2e0-7307-4a84-976b-395c98193d70",
   "metadata": {},
   "source": [
    "## Exercise 1 Write Python code that prints your name, student number and email address"
   ]
  },
  {
   "cell_type": "code",
   "execution_count": 4,
   "id": "465d70eb-4b45-4ddd-897a-446fc18ef9ce",
   "metadata": {},
   "outputs": [
    {
     "name": "stdout",
     "output_type": "stream",
     "text": [
      "MY Name Is MOHAMMED SUHAIL M K\n",
      "Student Number:M1024\n",
      "Email ID:-manjadysuhail3456@gmail.com\n"
     ]
    }
   ],
   "source": [
    "print(\"MY Name Is MOHAMMED SUHAIL M K\")\n",
    "print(\"Student Number:M1024\")\n",
    "print(\"Email ID:-manjadysuhail3456@gmail.com\")"
   ]
  },
  {
   "cell_type": "markdown",
   "id": "414622cf-7fa6-4492-8fd7-d52d3a857bac",
   "metadata": {},
   "source": [
    "## Exercise 2 Write Python code that prints your name, student number and email address using escape sequences."
   ]
  },
  {
   "cell_type": "code",
   "execution_count": 7,
   "id": "486feda9-ba1a-4f57-b19d-d8aff2c85a35",
   "metadata": {},
   "outputs": [
    {
     "name": "stdout",
     "output_type": "stream",
     "text": [
      "My Name Is MOHAMMED SUHAIL M K \n",
      "Student Number:M1024 \n",
      "Email ID:-manjadysuhail3456@gmail.com\n"
     ]
    }
   ],
   "source": [
    "print(\"My Name Is MOHAMMED SUHAIL M K \\nStudent Number:M1024 \\nEmail ID:-manjadysuhail3456@gmail.com\")"
   ]
  },
  {
   "cell_type": "markdown",
   "id": "ddf97398-e1d6-46fe-94c8-a7e5ddfffec3",
   "metadata": {},
   "source": [
    " ## Exercise 3 Write Python code that add, subtract, multiply and divide the two numbers. You can use the two numbers 14 and 7."
   ]
  },
  {
   "cell_type": "code",
   "execution_count": 8,
   "id": "bb08b6dc-8fad-4f87-b018-423dc31360cc",
   "metadata": {},
   "outputs": [
    {
     "name": "stdout",
     "output_type": "stream",
     "text": [
      "The sum of 14 and 7 is :  21\n",
      "The difference of 14 and 7 is :  7\n",
      "The product of 14 and 7 is :  98\n",
      "The dividing 14 and 7 is : 2.0\n",
      "The reminder when we divide 14 and 7 is :  0\n"
     ]
    }
   ],
   "source": [
    "a=14\n",
    "b=7\n",
    "print (f\"The sum of {a} and {b} is : \", a+b)\n",
    "print (f\"The difference of {a} and {b} is : \", a-b)\n",
    "print (f\"The product of {a} and {b} is : \", a*b)\n",
    "print (f\"The dividing {a} and {b} is :\", a/b)\n",
    "print (f\"The reminder when we divide {a} and {b} is : \", a%b)"
   ]
  },
  {
   "cell_type": "markdown",
   "id": "8248efa5-c261-43ef-ab44-cc6869014edc",
   "metadata": {},
   "source": [
    "## Exercise 4 Write Python code that displays the numbers from 1 to 5 as steps. An example runs of the program: 1 2 3 4 5 "
   ]
  },
  {
   "cell_type": "code",
   "execution_count": 10,
   "id": "e7567e9e-ac1c-4136-956d-b784fe68a15c",
   "metadata": {},
   "outputs": [
    {
     "name": "stdout",
     "output_type": "stream",
     "text": [
      "1\n",
      "2\n",
      "3\n",
      "4\n",
      "5\n"
     ]
    }
   ],
   "source": [
    "for i in range(1,6):\n",
    "    print(i)"
   ]
  },
  {
   "cell_type": "markdown",
   "id": "2b8287b6-e631-4f1c-ac71-a744bab4368d",
   "metadata": {},
   "source": [
    "## Exercise 5 Write Python code that outputs the following sentence (including the quotation marks and line break) to the screen: An example runs of the program: \"SDK\" stands for \"Software Development Kit\", whereas \"IDE\" stands for \"Integrated Development Environment\"."
   ]
  },
  {
   "cell_type": "code",
   "execution_count": 25,
   "id": "5b24cb8a-ade7-4746-b8ab-3b2a6c148119",
   "metadata": {},
   "outputs": [
    {
     "name": "stdout",
     "output_type": "stream",
     "text": [
      "\"SDK\" stands for \"Software Development Kit\", whereas \n",
      "\"IDE\" stands for \"Integrated Development Environment\".\n"
     ]
    }
   ],
   "source": [
    "print('\"SDK\" stands for \"Software Development Kit\", whereas \\n\"IDE\" stands for \"Integrated Development Environment\".')"
   ]
  },
  {
   "cell_type": "markdown",
   "id": "4a865885-967f-49ec-bc4d-2d52776e5613",
   "metadata": {},
   "source": [
    "## Exercise 6 Practice and check the output print(\"python is an \\\"awesome\\\" language.\") print(\"python\\n\\t2023\") print('I\\'m from Entri.\\b') print(\"\\65\") print(\"\\x65\") print(\"Entri\", \"2023\", sep=\"\\n\") print(\"Entri\", \"2023\", sep=\"\\b\") print(\"Entri\", \"2023\", sep=\"*\", end=\"\\b\\b\\b\\b\")"
   ]
  },
  {
   "cell_type": "code",
   "execution_count": 29,
   "id": "71ba0eb8-0593-4cd8-bda5-2bc4f67a510e",
   "metadata": {},
   "outputs": [
    {
     "name": "stdout",
     "output_type": "stream",
     "text": [
      "python is an \"awesome\" language.\n",
      "python\n",
      "\t2023\n",
      "I'm from Entri\n",
      "5\n",
      "e\n",
      "Entri\n",
      "2023\n",
      "Entr2023\n",
      "Entri*20"
     ]
    }
   ],
   "source": [
    "print(\"python is an \\\"awesome\\\" language.\") \n",
    "print(\"python\\n\\t2023\")\n",
    "print('I\\'m from Entri.\\b')\n",
    "print(\"\\65\")\n",
    "print(\"\\x65\") \n",
    "print(\"Entri\", \"2023\", sep=\"\\n\") \n",
    "print(\"Entri\", \"2023\", sep=\"\\b\")\n",
    "print(\"Entri\", \"2023\", sep=\"*\", end=\"\\b\\b\\b\\b\")"
   ]
  },
  {
   "cell_type": "markdown",
   "id": "7984a14b-09f4-47fe-ae9c-41fa511cc13f",
   "metadata": {},
   "source": [
    "## Exercise 7 Define the variables below. Print the types of each variable. What is the sum of your variables? (Hint: use a type conversion function.) What datatype is the sum? num=23 textnum=\"57\" decimal=98.3"
   ]
  },
  {
   "cell_type": "code",
   "execution_count": 34,
   "id": "401730ae-6d07-46b1-a2f4-fea30c4d0323",
   "metadata": {},
   "outputs": [
    {
     "name": "stdout",
     "output_type": "stream",
     "text": [
      "Data Type of 'num' is: <class 'int'>\n",
      "Data Type of 'textnum' is: <class 'str'>\n",
      "Data Type of 'decimal' is: <class 'float'>\n",
      "Sum Of Variable : 178.3\n",
      "Data Type Of Sum: <class 'float'>\n"
     ]
    }
   ],
   "source": [
    "num=23\n",
    "textnum=\"57\"\n",
    "decimal=98.3\n",
    "\n",
    "#Print the types of each variable\n",
    "\n",
    "print(\"Data Type of 'num' is:\",type(num))\n",
    "print(\"Data Type of 'textnum' is:\",type(textnum))\n",
    "print(\"Data Type of 'decimal' is:\",type(decimal))\n",
    "\n",
    "#sum of your variables\n",
    "\n",
    "sum_value=num+int(textnum)+decimal\n",
    "print(\"Sum Of Variable :\",sum_value)\n",
    "\n",
    "#datatype is the sum\n",
    "\n",
    "print(\"Data Type Of Sum:\",type(sum_value))\n"
   ]
  },
  {
   "cell_type": "markdown",
   "id": "e23d4849-d328-48f9-ad18-e848a12d7d78",
   "metadata": {},
   "source": [
    "## Exercise 8 calculate the number of minutes in a year using variables for each unit of time. print a statement that describes what your code does also. Create three variables to store no of days in a year, minute in a hour, hours in a day, then calculate the total minutes in a year and print the values (hint) total number of minutes in an year =No.of days in an year * Hours in a day * Minutes in an hour"
   ]
  },
  {
   "cell_type": "code",
   "execution_count": 39,
   "id": "49e7848c-68f0-4fba-b531-8a53ecc2cf1f",
   "metadata": {},
   "outputs": [
    {
     "name": "stdout",
     "output_type": "stream",
     "text": [
      "Total Minutes In a Year: 525600\n"
     ]
    }
   ],
   "source": [
    "number_of_days_in_year=365\n",
    "minute_in_hour=60\n",
    "hours_in_day=24\n",
    "\n",
    "print(\"Total Minutes In a Year:\",number_of_days_in_year*minute_in_hour*hours_in_day)"
   ]
  },
  {
   "cell_type": "markdown",
   "id": "0d770dd5-82f9-4617-972d-a7a6cdd84dc4",
   "metadata": {},
   "source": [
    "## Exercise 9 Write Python code that asks the user to enter his/her name and then output/prints his/her name with a greeting. An example runs of the program: Please enter you name: Tony Hi Tony, welcome to Python programming :) "
   ]
  },
  {
   "cell_type": "code",
   "execution_count": 40,
   "id": "12320c26-35a9-4bcb-9fc5-734bd7862350",
   "metadata": {},
   "outputs": [
    {
     "name": "stdin",
     "output_type": "stream",
     "text": [
      "Enter Your Name MOHAMMED SUHAIL M K\n"
     ]
    },
    {
     "name": "stdout",
     "output_type": "stream",
     "text": [
      "Hi MOHAMMED SUHAIL M K, welcome to Python programming :)\n"
     ]
    }
   ],
   "source": [
    "name=input(\"Enter Your Name\")\n",
    "print(f\"Hi {name}, welcome to Python programming :)\")"
   ]
  },
  {
   "cell_type": "markdown",
   "id": "37bfc752-8e19-4406-b973-47633ff95955",
   "metadata": {},
   "source": [
    "## Exercise 10 Name your file: PoundsToDollars.py Write a program that asks the user to enter an amount in pounds (£) and the program calculates and converts an amount in dollar ($) An example runs of the program: Please enter amount in pounds: XXX £ XXX are $ XXX"
   ]
  },
  {
   "cell_type": "code",
   "execution_count": 44,
   "id": "3a28d4f9-0cce-4b03-ab3b-ba8f8526bb34",
   "metadata": {},
   "outputs": [
    {
     "name": "stdin",
     "output_type": "stream",
     "text": [
      "Enter The Amount In Pounds: 10\n"
     ]
    },
    {
     "name": "stdout",
     "output_type": "stream",
     "text": [
      "The Amount of Pound is £10.0\n",
      "The Amount of Pound Converted into Amount In Dollar is $12.50\n"
     ]
    }
   ],
   "source": [
    "pound=float(input(\"Enter The Amount In Pounds:\"))\n",
    "conversion_rate=1.25\n",
    "dollar=pound*conversion_rate\n",
    "print(f\"The Amount of Pound is £{pound}\\nThe Amount of Pound Converted into Amount In Dollar is ${dollar:.2f}\")"
   ]
  },
  {
   "cell_type": "code",
   "execution_count": null,
   "id": "7eed5167-bf73-4d7e-9821-0523012535f5",
   "metadata": {},
   "outputs": [],
   "source": []
  }
 ],
 "metadata": {
  "kernelspec": {
   "display_name": "Python 3 (ipykernel)",
   "language": "python",
   "name": "python3"
  },
  "language_info": {
   "codemirror_mode": {
    "name": "ipython",
    "version": 3
   },
   "file_extension": ".py",
   "mimetype": "text/x-python",
   "name": "python",
   "nbconvert_exporter": "python",
   "pygments_lexer": "ipython3",
   "version": "3.12.5"
  }
 },
 "nbformat": 4,
 "nbformat_minor": 5
}
