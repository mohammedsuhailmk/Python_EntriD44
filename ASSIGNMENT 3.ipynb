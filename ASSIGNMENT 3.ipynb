{
 "cells": [
  {
   "cell_type": "markdown",
   "id": "4485c00a-f5fd-4d0f-a855-5f60168829e7",
   "metadata": {},
   "source": [
    "# <span style='color:red'> 3_Conditional and Looping Statements  <span>"
   ]
  },
  {
   "cell_type": "markdown",
   "id": "0221d370-8a7c-4d3c-b1c6-d36b13954615",
   "metadata": {},
   "source": [
    "### Exercise 1 Name your file: MonthNames.py Write a program that reads an integer value between 1 and 12 from the user and prints output the corresponding month of the year. An example run of the program (numbers in bold are typed in by the user) Enter the month: 3 Month 3 is March"
   ]
  },
  {
   "cell_type": "code",
   "execution_count": 1,
   "id": "aa8512d0-897c-43c3-b888-6c90b278dd17",
   "metadata": {},
   "outputs": [
    {
     "name": "stdin",
     "output_type": "stream",
     "text": [
      "Enter a number between 1 and 12 : 5\n"
     ]
    },
    {
     "name": "stdout",
     "output_type": "stream",
     "text": [
      "Month corresponding to 5 is : May\n"
     ]
    }
   ],
   "source": [
    "num=int(input(\"Enter a number between 1 and 12 :\"))\n",
    "if num<1 or num>12:\n",
    "    print(\"Enter a valid number between 1 and 12.\")\n",
    "else :    \n",
    "    months=[\"January\",\"February\",\"March\",\"April\",\"May\",\"June\",\"July\",\"August\",\"September\",\"October\",\"November\",\"December\"]\n",
    "    if  num >=1 or num<=12 :\n",
    "        print(f\"Month corresponding to {num} is : {months[num-1]}\")"
   ]
  },
  {
   "cell_type": "markdown",
   "id": "924bd070-f128-4a2d-a248-e7b76f5eac4d",
   "metadata": {},
   "source": [
    "### Exercise 2 A certain cinema currently sells tickets for a full price of 6 pounds, but always sells tickets for half price to people who are less than 16 years old, and for a third of the price for people who are 60 years old or more. An example run of the program (numbers in bold are typed in by the user) Enter your age: 63 Your ticket costs £2.00"
   ]
  },
  {
   "cell_type": "code",
   "execution_count": 2,
   "id": "ab8263b7-a4a0-4927-ac99-c2755cd8daab",
   "metadata": {},
   "outputs": [
    {
     "name": "stdin",
     "output_type": "stream",
     "text": [
      "Enter your age : 20\n"
     ]
    },
    {
     "name": "stdout",
     "output_type": "stream",
     "text": [
      "Your ticket costs £6.0 \n"
     ]
    }
   ],
   "source": [
    "ticket = 6.0\n",
    "age=int(input(\"Enter your age :\"))\n",
    "if age >=60:\n",
    "    ticket/=3\n",
    "if age<16 :\n",
    "    ticket/=2\n",
    "print(f\"Your ticket costs £{ticket} \")\n",
    "  "
   ]
  },
  {
   "cell_type": "markdown",
   "id": "74754e31-5276-4f81-823c-81098ca8c481",
   "metadata": {},
   "source": [
    "###  Exercise 3 Name your file: BodyMassIndex.py Write a program to calculate your BMI and give weight status. Body Mass Index (BMI) is an internationally used measurement to check if you are a healthy weight for your height.The metric BMI formula accepts weight in kilograms and height in meters: BMI= weight(kg)/height2(m2) BMI Weight Status Categories table BMI range - kg/m2 Category Below 18.5 Underweight 18.5 -24.9 Normal 25 - 29.9 Overweight 30 & Above Obese An example run of the program (numbers in bold are typed in by the user) Enter your weight in (kg): 75 Enter your height in (m): 1.70 Your BMI is: 25.95 You are in the “overweight” range."
   ]
  },
  {
   "cell_type": "code",
   "execution_count": 4,
   "id": "e6885694-f457-4f02-906f-2167d1226856",
   "metadata": {},
   "outputs": [
    {
     "name": "stdin",
     "output_type": "stream",
     "text": [
      "Enter height in (m):  185\n",
      "Enter weight in (kg):  79\n"
     ]
    },
    {
     "name": "stdout",
     "output_type": "stream",
     "text": [
      "Your Body Mass Index(BMI) is : 0.002308254200146092\n",
      "According to BMI you come under the UNDERWEIGHT category\n"
     ]
    }
   ],
   "source": [
    "while True:\n",
    "    height = float(input(\"Enter height in (m): \"))\n",
    "    if height <= 0:\n",
    "        print(\"Invalid height! Please enter a valid height in meters (greater than 0).\")\n",
    "    else:\n",
    "        break\n",
    "while True:\n",
    "    weight = float(input(\"Enter weight in (kg): \"))\n",
    "    if weight <= 0:\n",
    "        print(\"Invalid weight! Please enter a valid height in meters (greater than 0).\")\n",
    "    else:\n",
    "        break\n",
    "\n",
    "bmi= weight/height**2\n",
    "print(\"Your Body Mass Index(BMI) is :\",bmi)\n",
    "if bmi <18.5:\n",
    "    status=\"UNDERWEIGHT\"\n",
    "elif 18.5 <= bmi <= 24.9:\n",
    "    status=\"NORMAL\"\n",
    "elif 25 <= bmi <= 29.9:\n",
    "    status=\"OVERWEIGHT\"\n",
    "else:\n",
    "    status=\"OBESE\"\n",
    "print(f\"According to BMI you come under the {status} category\")"
   ]
  },
  {
   "cell_type": "markdown",
   "id": "dc8c573e-14f8-4688-ae73-9e6a7a203a51",
   "metadata": {},
   "source": [
    "### Exercise 4 Write a Python program to receive 3 numbers from the user and print the greatest among them."
   ]
  },
  {
   "cell_type": "code",
   "execution_count": 5,
   "id": "2015ae95-1657-4282-bd4a-9035b60a73e6",
   "metadata": {},
   "outputs": [
    {
     "name": "stdin",
     "output_type": "stream",
     "text": [
      "Enter number 1 : 10\n",
      "Enter number 2 : 20\n",
      "Enter number 3 : 30\n"
     ]
    },
    {
     "name": "stdout",
     "output_type": "stream",
     "text": [
      "The list of nymbers is : ['10', '20', '30']\n",
      "The greatest number in the list is : 30\n"
     ]
    }
   ],
   "source": [
    "list=[]\n",
    "i=0\n",
    "while i<3:\n",
    "    list.append(input(f\"Enter number {i+1} :\")) \n",
    "    i+=1\n",
    "print(\"The list of nymbers is :\",list)\n",
    "print(\"The greatest number in the list is :\",max(list))"
   ]
  },
  {
   "cell_type": "markdown",
   "id": "b42701af-37f4-4dfb-9b27-5c8927237bea",
   "metadata": {},
   "source": [
    "### Exercise 5 Find the factorial of a given number using loops(note the number is received from the user)"
   ]
  },
  {
   "cell_type": "code",
   "execution_count": 6,
   "id": "99154583-deb1-4646-9bae-34ec17aad547",
   "metadata": {},
   "outputs": [
    {
     "name": "stdin",
     "output_type": "stream",
     "text": [
      "Enter the number: 5\n"
     ]
    },
    {
     "name": "stdout",
     "output_type": "stream",
     "text": [
      "Factorial of 5 is 120.\n"
     ]
    }
   ],
   "source": [
    "num=int(input(\"Enter the number:\"))\n",
    "if num<0:\n",
    "    print(\"Negative numbers dont have factorials!!\")\n",
    "else :    \n",
    "    factorial=1\n",
    "    if num>1:\n",
    "        for i in range(1,num+1):\n",
    "            factorial*=i \n",
    "    print(f\"Factorial of {num} is {factorial}.\")   "
   ]
  },
  {
   "cell_type": "markdown",
   "id": "5a591381-2701-4105-bdf0-a7aca71bda23",
   "metadata": {},
   "source": [
    "###  Exercise 6 Reverse a number using while loop "
   ]
  },
  {
   "cell_type": "code",
   "execution_count": 7,
   "id": "ffb1b1be-5ef6-4851-9a06-611fc77fc0bc",
   "metadata": {},
   "outputs": [
    {
     "name": "stdin",
     "output_type": "stream",
     "text": [
      "Enter a number:  28\n"
     ]
    },
    {
     "name": "stdout",
     "output_type": "stream",
     "text": [
      "The reversed number corresponding to 28 is : 82\n"
     ]
    }
   ],
   "source": [
    "num = int(input(\"Enter a number: \"))\n",
    "if num < 0:\n",
    "    print(\"Enter a valid number!!\")\n",
    "num1=num\n",
    "rev_num = 0\n",
    "\n",
    "while num > 0:\n",
    "    digit = num % 10\n",
    "    rev_num = rev_num * 10 + digit\n",
    "    num //= 10                        # //is the floor operator\n",
    "\n",
    "print(f\"The reversed number corresponding to {num1} is : {rev_num}\")"
   ]
  },
  {
   "cell_type": "markdown",
   "id": "bde9609c-eb35-44f5-84c2-98afe6bb158a",
   "metadata": {},
   "source": [
    "### Exercise 7 Finding the multiples of a number using loop Exercise"
   ]
  },
  {
   "cell_type": "code",
   "execution_count": 8,
   "id": "5974091e-c31e-4e84-a404-b9f012e54315",
   "metadata": {},
   "outputs": [
    {
     "name": "stdin",
     "output_type": "stream",
     "text": [
      "Enter the number : 7\n",
      "Enter the range limit : 5\n"
     ]
    },
    {
     "name": "stdout",
     "output_type": "stream",
     "text": [
      "5 multiples of 7 are :\n",
      "7\n",
      "14\n",
      "21\n",
      "28\n",
      "35\n"
     ]
    }
   ],
   "source": [
    "num=int(input(\"Enter the number :\"))\n",
    "limit=int(input(\"Enter the range limit :\"))\n",
    "print(f\"{limit} multiples of {num} are :\")\n",
    "for i in range(1,limit+1):\n",
    "    print(num*i)\n",
    "    "
   ]
  },
  {
   "cell_type": "markdown",
   "id": "50bb3027-2941-444f-b6e8-9c87db6cbf8e",
   "metadata": {},
   "source": [
    "### Exercise 8 Write a program to print the inputted value as it is and break the loop if the value is 'done'. Example run of the program :hello there hello there :finished finished :done Done"
   ]
  },
  {
   "cell_type": "code",
   "execution_count": 9,
   "id": "3a09ea60-2980-4752-a9d6-15e7e5c1e114",
   "metadata": {},
   "outputs": [
    {
     "name": "stdin",
     "output_type": "stream",
     "text": [
      "Enter youe input : suhail\n"
     ]
    },
    {
     "name": "stdout",
     "output_type": "stream",
     "text": [
      "suhail\n"
     ]
    },
    {
     "name": "stdin",
     "output_type": "stream",
     "text": [
      "Enter youe input : APPUKUTTAN\n"
     ]
    },
    {
     "name": "stdout",
     "output_type": "stream",
     "text": [
      "APPUKUTTAN\n"
     ]
    },
    {
     "name": "stdin",
     "output_type": "stream",
     "text": [
      "Enter youe input : done\n"
     ]
    },
    {
     "name": "stdout",
     "output_type": "stream",
     "text": [
      "done\n"
     ]
    }
   ],
   "source": [
    "while True:\n",
    "    val=input(\"Enter youe input :\")\n",
    "    if val.casefold()==\"done\":        # casefold() is used to perform case-insensitive string comparison\n",
    "        print(val)\n",
    "        break\n",
    "    print(val)"
   ]
  },
  {
   "cell_type": "markdown",
   "id": "f827e897-b826-4815-b99d-fde5e0d54125",
   "metadata": {},
   "source": [
    "###  Exercise 9 Write a program that prints the numbers from 1 to 10. But for multiples of three print \"Fizz\" instead of the number and for the multiple of five print \"Buzz\". For numbers which are multiples of both three and five print \"FizzBuzz\" "
   ]
  },
  {
   "cell_type": "code",
   "execution_count": 10,
   "id": "cddb9e54-ab55-4875-ae9c-fa2d22f988c6",
   "metadata": {},
   "outputs": [
    {
     "name": "stdout",
     "output_type": "stream",
     "text": [
      "1\n",
      "2\n",
      "Fizz\n",
      "4\n",
      "Buzz\n",
      "Fizz\n",
      "7\n",
      "8\n",
      "Fizz\n",
      "Buzz\n"
     ]
    }
   ],
   "source": [
    "for i in range(1,11):\n",
    "    if i%3==0 and i%5==0 :\n",
    "        print(\"FizzBuzz\")\n",
    "    elif i%3==0:\n",
    "        print(\"Fizz\")\n",
    "    elif i%5==0:\n",
    "        print(\"Buzz\")\n",
    "    else:\n",
    "        print(i)"
   ]
  },
  {
   "cell_type": "markdown",
   "id": "16825a4b-7090-4b4d-87da-31ca57793cef",
   "metadata": {},
   "source": [
    "### Exercise 10 Write a program to print the following pattern: 5 4 3 2 1 4 3 2 1 3 2 1 2 1 1"
   ]
  },
  {
   "cell_type": "code",
   "execution_count": 20,
   "id": "7dff9c94-b7fa-4e0f-9c9b-21d48782073f",
   "metadata": {},
   "outputs": [
    {
     "name": "stdout",
     "output_type": "stream",
     "text": [
      "The required series is :\n",
      "5 4 3 2 1 4 3 2 1 3 2 1 2 1 1 .\n",
      "The required series is :\n",
      "5 4 3 2 1 \n",
      "4 3 2 1 \n",
      "3 2 1 \n",
      "2 1 \n",
      "1 \n"
     ]
    }
   ],
   "source": [
    "num=5\n",
    "print(\"The required series is :\")\n",
    "while num>0:\n",
    "    for i in range(num,0,-1):\n",
    "        print(i, end=\" \")\n",
    "    num-=1\n",
    "\n",
    "print(\".\")\n",
    "\n",
    "num=5\n",
    "print(\"The required series is :\")\n",
    "while num>0:\n",
    "    for i in range(num,0,-1):\n",
    "        print(i, end=\" \")\n",
    "    print()\n",
    "    num-=1"
   ]
  },
  {
   "cell_type": "code",
   "execution_count": null,
   "id": "111bc449-0bf7-4abe-a490-cb0c134b578a",
   "metadata": {},
   "outputs": [],
   "source": []
  }
 ],
 "metadata": {
  "kernelspec": {
   "display_name": "Python 3 (ipykernel)",
   "language": "python",
   "name": "python3"
  },
  "language_info": {
   "codemirror_mode": {
    "name": "ipython",
    "version": 3
   },
   "file_extension": ".py",
   "mimetype": "text/x-python",
   "name": "python",
   "nbconvert_exporter": "python",
   "pygments_lexer": "ipython3",
   "version": "3.12.5"
  }
 },
 "nbformat": 4,
 "nbformat_minor": 5
}
