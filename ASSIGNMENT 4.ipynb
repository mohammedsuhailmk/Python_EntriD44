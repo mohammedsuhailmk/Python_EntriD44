{
 "cells": [
  {
   "attachments": {},
   "cell_type": "markdown",
   "id": "1fc2aefa-1707-4189-a397-2b563a555e11",
   "metadata": {},
   "source": [
    "# <span style='color:green'> Python - Functions <span>"
   ]
  },
  {
   "cell_type": "markdown",
   "id": "f4a96c38-1918-44a8-89d4-b3b335fc73b6",
   "metadata": {},
   "source": [
    "## The len() function in Python return the number of elements in an object, which can be a string, list, tuple, set, dictionary etc."
   ]
  },
  {
   "cell_type": "markdown",
   "id": "00c99b86-6671-4692-8115-c8ce6bec181a",
   "metadata": {},
   "source": [
    "### 1. To find the length of a list using len() function"
   ]
  },
  {
   "cell_type": "code",
   "execution_count": 1,
   "id": "13ea26eb-0ee3-4bab-a545-865dcc67942a",
   "metadata": {},
   "outputs": [
    {
     "name": "stdout",
     "output_type": "stream",
     "text": [
      "The length of list, age is :6\n"
     ]
    }
   ],
   "source": [
    "age=[4,7,32,38,65,75]\n",
    "print(f\"The length of list, age is :{len(age)}\")"
   ]
  },
  {
   "cell_type": "code",
   "execution_count": 2,
   "id": "ed7d1d4b-b951-4fdb-94ae-e8c492f58802",
   "metadata": {},
   "outputs": [
    {
     "name": "stdout",
     "output_type": "stream",
     "text": [
      "The length of the list, name is : 4\n"
     ]
    }
   ],
   "source": [
    "name=[\"Aradhya\",\"Ameya\",\"Anusree\",\"Sudeesh\"]\n",
    "print(\"The length of the list, name is :\",len(name))"
   ]
  },
  {
   "cell_type": "markdown",
   "id": "05d15d07-c5ba-415a-b820-6fed3ecbcfe7",
   "metadata": {},
   "source": [
    "### 2. Write a Python function greet(name) that takes a person's name as input and prints \"Hello, [name]!\""
   ]
  },
  {
   "cell_type": "code",
   "execution_count": 4,
   "id": "c6aa9e0d-5b71-4989-b4c2-4c875ca67673",
   "metadata": {},
   "outputs": [
    {
     "name": "stdout",
     "output_type": "stream",
     "text": [
      "Hello, Suhail\n"
     ]
    }
   ],
   "source": [
    "def greet(name):\n",
    "    print(f\"Hello, {name}\")\n",
    "greet(\"Suhail\")"
   ]
  },
  {
   "cell_type": "markdown",
   "id": "47a5d8a2-931c-474b-afaa-f83652040654",
   "metadata": {},
   "source": [
    "### 3.Function to find the maximum value in a list without using max()"
   ]
  },
  {
   "cell_type": "code",
   "execution_count": 5,
   "id": "e08f8ae5-8aec-46fa-9a27-e5ac9b263de6",
   "metadata": {},
   "outputs": [
    {
     "name": "stdout",
     "output_type": "stream",
     "text": [
      "Enter integer values:(type 'done' to finish):\n"
     ]
    },
    {
     "name": "stdin",
     "output_type": "stream",
     "text": [
      "Enter a number:  10\n",
      "Enter a number:  20\n",
      "Enter a number:  30\n",
      "Enter a number:  40\n",
      "Enter a number:  50\n",
      "Enter a number:  60\n",
      "Enter a number:  875\n",
      "Enter a number:  done\n"
     ]
    },
    {
     "name": "stdout",
     "output_type": "stream",
     "text": [
      "\n",
      "Your list is: [10, 20, 30, 40, 50, 60, 875]\n",
      "The maximum number from the list is : 875\n"
     ]
    }
   ],
   "source": [
    "list1 = []\n",
    "\n",
    "print(\"Enter integer values:(type 'done' to finish):\")\n",
    "\n",
    "while True:\n",
    "    user_input = input(\"Enter a number: \") \n",
    "    \n",
    "    if user_input.lower() == \"done\":  \n",
    "        break\n",
    "\n",
    "    try:\n",
    "        number = int(user_input)  # Convert input to an integer\n",
    "        list1.append(number)   # Add to the list if successful\n",
    "    except ValueError:\n",
    "        print(\"Invalid input! Please enter an integer.\")\n",
    "\n",
    "print(\"\\nYour list is:\", list1)\n",
    "\n",
    "def max_list(list):\n",
    "    if not list:\n",
    "        return print(\"Enter a number list\")\n",
    "    max=0\n",
    "    l=len(list)\n",
    "    for i in range(0,l):\n",
    "        if list[i]>=max :\n",
    "            max=list[i]\n",
    "    return max\n",
    "\n",
    "maximum=max_list(list1)\n",
    "print(f\"The maximum number from the list is : {maximum}\")"
   ]
  },
  {
   "cell_type": "markdown",
   "id": "9e2f303f-e2ee-45e8-8f40-aeebba38b5c9",
   "metadata": {},
   "source": [
    "### 4. Write a program where a global variable and a local variable have the same name and show how Python differentiates between them."
   ]
  },
  {
   "cell_type": "markdown",
   "id": "5dbe9a4e-7582-4657-97ae-468de5aec3aa",
   "metadata": {},
   "source": [
    "#### 1. Local Variables:\n",
    "In Python, local variabls are defined inside a function and can only be accessed within that function. They are created when the function is called and destroyed when the function ends."
   ]
  },
  {
   "cell_type": "markdown",
   "id": "5421e3de-d956-4317-b851-a5b31e4393b9",
   "metadata": {},
   "source": [
    "#### 2. Global Variables:\n",
    "Global variables are declared outside any function and can be accessed anywhere in the script. Their values persist throughout the execution of the program."
   ]
  },
  {
   "cell_type": "code",
   "execution_count": 6,
   "id": "9d210cfe-4ea4-45e9-b5ee-f064a17adc36",
   "metadata": {},
   "outputs": [
    {
     "name": "stdout",
     "output_type": "stream",
     "text": [
      "Inside the function,  I am a Local variable\n",
      "Outside the function, I am a Global Variable\n"
     ]
    }
   ],
   "source": [
    "var = \"I am a Global Variable\"\n",
    "\n",
    "def variablescope():\n",
    "    var=\"I am a Local variable\"     # same name var as the global variable\n",
    "    print(\"Inside the function, \",var)\n",
    "    \n",
    "variablescope()\n",
    "print(\"Outside the function,\",var)"
   ]
  },
  {
   "cell_type": "markdown",
   "id": "401e540f-7982-4881-a23d-a36ad092f985",
   "metadata": {},
   "source": [
    "### 5.Function to calculate the area of a rectangle with a default width of 5"
   ]
  },
  {
   "cell_type": "code",
   "execution_count": 8,
   "id": "8827651b-4ba2-480c-a0fa-f8246ec318a7",
   "metadata": {},
   "outputs": [
    {
     "name": "stdout",
     "output_type": "stream",
     "text": [
      "Area with both arguments: 40\n",
      "Area with default width: 50\n"
     ]
    }
   ],
   "source": [
    "def calculate_area(length, width=5):\n",
    "    return length * width\n",
    "\n",
    "print(\"Area with both arguments:\", calculate_area(10, 4))  \n",
    "print(\"Area with default width:\", calculate_area(10))  "
   ]
  },
  {
   "cell_type": "code",
   "execution_count": null,
   "id": "c6059ef1-41c2-4e11-b457-8cbc8349c5fb",
   "metadata": {},
   "outputs": [],
   "source": []
  }
 ],
 "metadata": {
  "kernelspec": {
   "display_name": "Python 3 (ipykernel)",
   "language": "python",
   "name": "python3"
  },
  "language_info": {
   "codemirror_mode": {
    "name": "ipython",
    "version": 3
   },
   "file_extension": ".py",
   "mimetype": "text/x-python",
   "name": "python",
   "nbconvert_exporter": "python",
   "pygments_lexer": "ipython3",
   "version": "3.12.5"
  }
 },
 "nbformat": 4,
 "nbformat_minor": 5
}
