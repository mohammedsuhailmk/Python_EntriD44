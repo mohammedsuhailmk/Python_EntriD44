{
 "cells": [
  {
   "cell_type": "markdown",
   "id": "026e8c50-9918-4d64-8b5c-938df67b0619",
   "metadata": {},
   "source": [
    "# <span style='color:green'> 2_Data structures in Python </span>"
   ]
  },
  {
   "cell_type": "markdown",
   "id": "b36a618c-3b57-43f5-a2ef-53f34281cb9f",
   "metadata": {},
   "source": [
    "## <span style='color:brown'> 1.List Exercise  <span>"
   ]
  },
  {
   "cell_type": "markdown",
   "id": "a8202874-26bb-4dff-9e59-a3842ba8bb1b",
   "metadata": {},
   "source": [
    "### Q1. Create a list of 5 random numbers and print the list."
   ]
  },
  {
   "cell_type": "code",
   "execution_count": 17,
   "id": "25155c67-bc73-4591-ab2e-8626d790d394",
   "metadata": {},
   "outputs": [
    {
     "name": "stdout",
     "output_type": "stream",
     "text": [
      "List Of 5 Random Numbers Is: [10, 20, 30, 40, 50]\n"
     ]
    }
   ],
   "source": [
    "list1=[10,20,30,40,50]\n",
    "print(\"List Of 5 Random Numbers Is:\",list1)"
   ]
  },
  {
   "cell_type": "markdown",
   "id": "9d01def7-7acd-4a33-be70-44a52ac35492",
   "metadata": {},
   "source": [
    "### Q2. Insert 3 new values to the list and print the updated list. "
   ]
  },
  {
   "cell_type": "code",
   "execution_count": 18,
   "id": "62712787-5bd7-4ab5-87c0-bc5bcd89e88a",
   "metadata": {},
   "outputs": [
    {
     "name": "stdout",
     "output_type": "stream",
     "text": [
      "Updated List: [10, 20, 30, 40, 50, 60, 70, 80]\n"
     ]
    }
   ],
   "source": [
    "list1.extend([60,70,80])\n",
    "print(\"Updated List:\",list1)"
   ]
  },
  {
   "cell_type": "markdown",
   "id": "2f9e37c9-a8a7-425a-a150-55e1a6f5da64",
   "metadata": {},
   "source": [
    "### Q3. Try to use a for loop to print each element in the list."
   ]
  },
  {
   "cell_type": "code",
   "execution_count": 21,
   "id": "67b21f9c-1189-4748-ab1a-4d8ec4b30ff3",
   "metadata": {},
   "outputs": [
    {
     "name": "stdout",
     "output_type": "stream",
     "text": [
      "The Element in The List Are:\n",
      "10\n",
      "20\n",
      "30\n",
      "40\n",
      "50\n",
      "60\n",
      "70\n",
      "80\n"
     ]
    }
   ],
   "source": [
    "print(\"The Element in The List Are:\")\n",
    "for i in list1:\n",
    "    print(i)"
   ]
  },
  {
   "cell_type": "markdown",
   "id": "9f96b86d-10b0-40d3-a5f7-6a0d3095bc02",
   "metadata": {},
   "source": [
    "## <span style='color:brown'> 2.Dictionary Exercise   <span>"
   ]
  },
  {
   "cell_type": "markdown",
   "id": "d770bb0d-3efc-4381-9685-89e3907f9b05",
   "metadata": {},
   "source": [
    "### Q1. Create a dictionary with keys 'name', 'age', and 'address' and values 'John', 25, and 'New York' respectively.\n"
   ]
  },
  {
   "cell_type": "code",
   "execution_count": 24,
   "id": "af8bf64e-f423-4e54-93a8-029d5d6c4e9b",
   "metadata": {},
   "outputs": [
    {
     "name": "stdout",
     "output_type": "stream",
     "text": [
      "The Person Details Is: {'Name': 'John', 'Age': '25', 'Address': 'New York'}\n"
     ]
    }
   ],
   "source": [
    "details={'Name':'John','Age':'25','Address':'New York'}\n",
    "print(\"The Person Details Is:\",details)"
   ]
  },
  {
   "cell_type": "markdown",
   "id": "39eaa91c-9f35-43b2-ba15-31d155c59f0b",
   "metadata": {},
   "source": [
    "### Q2. Add a new key-value pair to the dictionary created in Q1 with key 'phone' and value '1234567890'. T"
   ]
  },
  {
   "cell_type": "code",
   "execution_count": 25,
   "id": "fb40025f-3d6b-492a-af5b-922649619301",
   "metadata": {},
   "outputs": [
    {
     "name": "stdout",
     "output_type": "stream",
     "text": [
      "The updated dictionary is : {'Name': 'John', 'Age': '25', 'Address': 'New York', 'Phone': 1234567890}\n"
     ]
    }
   ],
   "source": [
    "details[\"Phone\"]=1234567890\n",
    "print(\"The updated dictionary is :\",details)"
   ]
  },
  {
   "cell_type": "markdown",
   "id": "b4d0ca7c-07cc-4158-bacc-d653cadcb44c",
   "metadata": {},
   "source": [
    "## <span style='color:brown'> 3.Set Exercise   <span>"
   ]
  },
  {
   "cell_type": "markdown",
   "id": "03cafbbb-8833-447f-a5ac-e92159983394",
   "metadata": {},
   "source": [
    "### Q1.Create a set with values 1, 2, 3, 4, and 5."
   ]
  },
  {
   "cell_type": "code",
   "execution_count": 26,
   "id": "101fdaeb-3c22-4921-bcb8-4e88614643f1",
   "metadata": {},
   "outputs": [
    {
     "name": "stdout",
     "output_type": "stream",
     "text": [
      "The original set is : {1, 2, 3, 4, 5}\n"
     ]
    }
   ],
   "source": [
    "set1={1,2,3,4,5}\n",
    "print(\"The original set is :\",set1)"
   ]
  },
  {
   "cell_type": "markdown",
   "id": "96219fa7-eed3-4d94-88ae-472125433c66",
   "metadata": {},
   "source": [
    "### Q2. Add the value 6 to the set created in Q1."
   ]
  },
  {
   "cell_type": "code",
   "execution_count": 27,
   "id": "7b6f8512-45da-4073-95ff-0f08ad895c3f",
   "metadata": {},
   "outputs": [
    {
     "name": "stdout",
     "output_type": "stream",
     "text": [
      "The Updated Set Is: {1, 2, 3, 4, 5, 6}\n"
     ]
    }
   ],
   "source": [
    "set1.add(6)\n",
    "print(\"The Updated Set Is:\",set1)"
   ]
  },
  {
   "cell_type": "markdown",
   "id": "811861a7-c501-4d7e-88ea-11adb125c542",
   "metadata": {},
   "source": [
    "### Q3. Remove the value 3 from the set created in Q1."
   ]
  },
  {
   "cell_type": "code",
   "execution_count": 33,
   "id": "9a382744-1459-4b2b-876d-a27caf48978d",
   "metadata": {},
   "outputs": [
    {
     "name": "stdout",
     "output_type": "stream",
     "text": [
      "The set before removing the value 3 is :  {1, 2, 4, 5, 6}\n",
      "The set after removing value 3 is : {1, 2, 4, 5, 6}\n"
     ]
    }
   ],
   "source": [
    "print(\"The set before removing the value 3 is : \",set1)\n",
    "set1.discard(3)\n",
    "print(\"The set after removing value 3 is :\",set1)"
   ]
  },
  {
   "cell_type": "markdown",
   "id": "6388865b-5a48-4c87-8b09-7ae76f91157f",
   "metadata": {},
   "source": [
    "## <span style='color:brown'> 4.Tuple Exercise  <span>"
   ]
  },
  {
   "cell_type": "markdown",
   "id": "2409fbb6-c65b-4438-bbad-1deddeb5f22c",
   "metadata": {},
   "source": [
    "### Q1. Create a tuple with values 1, 2, 3, and 4 "
   ]
  },
  {
   "cell_type": "code",
   "execution_count": 35,
   "id": "67d9c74e-a29f-4e4f-807c-bf496715fa14",
   "metadata": {},
   "outputs": [
    {
     "name": "stdout",
     "output_type": "stream",
     "text": [
      "The tuple is : (1, 2, 3, 4)\n"
     ]
    }
   ],
   "source": [
    "tup1=(1,2,3,4)\n",
    "print(\"The tuple is :\",tup1)"
   ]
  },
  {
   "cell_type": "markdown",
   "id": "02c1e434-b35d-4b32-bc78-08829b372a46",
   "metadata": {},
   "source": [
    "### Q2. Print the length of the tuple created in Q1."
   ]
  },
  {
   "cell_type": "code",
   "execution_count": 36,
   "id": "385e10c0-ab4f-47f6-bb89-45b5301396d2",
   "metadata": {},
   "outputs": [
    {
     "name": "stdout",
     "output_type": "stream",
     "text": [
      "The Length Of The Tuple Is: 4\n"
     ]
    }
   ],
   "source": [
    "print(\"The Length Of The Tuple Is:\",len(tup1))"
   ]
  },
  {
   "cell_type": "code",
   "execution_count": null,
   "id": "50bd594d-08bf-40b9-a370-fee5ddae225f",
   "metadata": {},
   "outputs": [],
   "source": []
  }
 ],
 "metadata": {
  "kernelspec": {
   "display_name": "Python 3 (ipykernel)",
   "language": "python",
   "name": "python3"
  },
  "language_info": {
   "codemirror_mode": {
    "name": "ipython",
    "version": 3
   },
   "file_extension": ".py",
   "mimetype": "text/x-python",
   "name": "python",
   "nbconvert_exporter": "python",
   "pygments_lexer": "ipython3",
   "version": "3.12.5"
  }
 },
 "nbformat": 4,
 "nbformat_minor": 5
}
